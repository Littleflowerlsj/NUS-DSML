{
  "nbformat": 4,
  "nbformat_minor": 0,
  "metadata": {
    "colab": {
      "provenance": []
    },
    "kernelspec": {
      "name": "python3",
      "display_name": "Python 3"
    },
    "language_info": {
      "name": "python"
    }
  },
  "cells": [
    {
      "cell_type": "markdown",
      "source": [
        "# 0. Installing PySpark in Google Colab"
      ],
      "metadata": {
        "id": "ZE5FExCYe8ax"
      }
    },
    {
      "cell_type": "markdown",
      "source": [
        "Install Dependencies (needs to be done once each time you re-open this notebook):\n",
        "\n",
        "1.   Java 8\n",
        "2.   Apache Spark with hadoop and\n",
        "3.   Findspark (used to locate the spark in the system)"
      ],
      "metadata": {
        "id": "pei0I5IYf4xd"
      }
    },
    {
      "cell_type": "code",
      "execution_count": 2,
      "metadata": {
        "id": "1cJjMt8Aeb9J"
      },
      "outputs": [],
      "source": [
        "# install java\n",
        "!apt-get install openjdk-8-jdk-headless -qq > /dev/null\n",
        "\n",
        "# install spark (change the version number if needed)\n",
        "!wget -q https://dlcdn.apache.org/spark/spark-3.5.4/spark-3.5.4-bin-hadoop3.tgz\n",
        "\n",
        "# unzip the spark file to the current folder\n",
        "!tar xf spark-3.5.4-bin-hadoop3.tgz\n",
        "\n",
        "# set your spark folder to your system path environment.\n",
        "import os\n",
        "os.environ[\"JAVA_HOME\"] = \"/usr/lib/jvm/java-8-openjdk-amd64\"\n",
        "os.environ[\"SPARK_HOME\"] = \"/content/spark-3.5.4-bin-hadoop3\"\n",
        "\n",
        "# install findspark using pip\n",
        "!pip install -q findspark\n",
        "import findspark\n",
        "findspark.init()\n"
      ]
    },
    {
      "cell_type": "markdown",
      "source": [
        "- Mount your Google Drive folder to access files\n",
        "- Needs to be done once each time you restart your runtime"
      ],
      "metadata": {
        "id": "vP162GUhCaOw"
      }
    },
    {
      "cell_type": "code",
      "source": [
        "from google.colab import drive\n",
        "drive.mount('/content/gdrive')"
      ],
      "metadata": {
        "id": "UDLRE6xqCYkk",
        "colab": {
          "base_uri": "https://localhost:8080/"
        },
        "outputId": "7c8704cc-637f-40e2-84eb-24348da53947"
      },
      "execution_count": 3,
      "outputs": [
        {
          "output_type": "stream",
          "name": "stdout",
          "text": [
            "Mounted at /content/gdrive\n"
          ]
        }
      ]
    },
    {
      "cell_type": "markdown",
      "source": [
        "# 1. Download Amazon Review Dataset"
      ],
      "metadata": {
        "id": "0eOTJa-R08yZ"
      }
    },
    {
      "cell_type": "markdown",
      "source": [
        "- Run the following cell to download the dataset and copy them to your Google Drive to keep a permanent copy so that you don't need to re-download everytime\n",
        "- Only need to run for the first time\n",
        "- We will be using the following two files for this task. Details of dataset can be found at https://cseweb.ucsd.edu/%7Ejmcauley/datasets/amazon_v2/#subsets\n",
        "  - Grocery_and_Gourmet_Food_5.json.gz is from 5-core review data\n",
        "  - meta_Grocery_and_Gourmet_Food.json.gz is from metadata under Per-category data"
      ],
      "metadata": {
        "id": "AK3-lhk8tCia"
      }
    },
    {
      "cell_type": "markdown",
      "source": [
        "# 2. Amazon Review Analysis"
      ],
      "metadata": {
        "id": "hG7MuwlsCI8D"
      }
    },
    {
      "cell_type": "markdown",
      "source": [
        "**Task 1: Write a Spark program to find the top 15 products based on their number of reviews and average ratings**"
      ],
      "metadata": {
        "id": "u7MppD5BFw0H"
      }
    },
    {
      "cell_type": "markdown",
      "source": [
        "Step 1. Calculate the number of reviews and average ratings for each asin. Use RDD, reduceByKey and map function to accomplish this step. Your RDD should have product asin as the key, and tuple of (#reviews, average_rating) as the value.\n"
      ],
      "metadata": {
        "id": "DtL7XvfJeriO"
      }
    },
    {
      "cell_type": "code",
      "source": [
        "from pyspark import SparkContext\n",
        "sc = SparkContext()\n",
        "\n",
        "import json\n",
        "file_path1 = './gdrive/MyDrive/CS5344_AY2425Sem2_Lab/Grocery_and_Gourmet_Food_5.json'\n",
        "file_path2 = './gdrive/MyDrive/CS5344_AY2425Sem2_Lab/meta_Grocery_and_Gourmet_Food.json'\n",
        "# read the json file\n",
        "data1 = sc.textFile(file_path1)\n",
        "data2 = sc.textFile(file_path2)"
      ],
      "metadata": {
        "id": "v3U0CjlG-6sH"
      },
      "execution_count": 5,
      "outputs": []
    },
    {
      "cell_type": "code",
      "source": [
        "print(data1.take(1))\n",
        "print(data2.take(1))"
      ],
      "metadata": {
        "id": "nclPOX-Jw1rD",
        "outputId": "c8350231-8ea6-4d8e-f1c5-dd99f034fc35",
        "colab": {
          "base_uri": "https://localhost:8080/"
        }
      },
      "execution_count": 7,
      "outputs": [
        {
          "output_type": "stream",
          "name": "stdout",
          "text": [
            "['{\"overall\": 5.0, \"verified\": true, \"reviewTime\": \"11 19, 2014\", \"reviewerID\": \"A1QVBUH9E1V6I8\", \"asin\": \"4639725183\", \"reviewerName\": \"Jamshed Mathur\", \"reviewText\": \"No adverse comment.\", \"summary\": \"Five Stars\", \"unixReviewTime\": 1416355200}']\n",
            "['{\"category\": [\"Grocery & Gourmet Food\", \"Dairy, Cheese & Eggs\", \"Cheese\", \"Gouda\"], \"tech1\": \"\", \"description\": [\"BEEMSTER GOUDA CHEESE AGED 18/24 MONTHS\", \"Statements regarding dietary supplements have not been evaluated by the FDA and are not intended to diagnose, treat, cure, or prevent any disease or health condition.\"], \"fit\": \"\", \"title\": \"Beemster Gouda - Aged 18/24 Months - App. 1.5 Lbs\", \"also_buy\": [], \"tech2\": \"\", \"brand\": \"Ariola Imports\", \"feature\": [], \"rank\": \"165,181 in Grocery & Gourmet Food (\", \"also_view\": [\"B0000D9MYM\", \"B0000D9MYL\", \"B00ADHIGBA\", \"B00H9OX598\", \"B001LM42GY\", \"B001LM5TDY\"], \"main_cat\": \"Grocery\", \"similar_item\": \"\", \"date\": \"\", \"price\": \"$41.91\", \"asin\": \"0681727810\", \"imageURL\": [], \"imageURLHighRes\": []}']\n"
          ]
        }
      ]
    },
    {
      "cell_type": "code",
      "source": [
        "# target => (asin, (#reviews, average_rating))\n",
        "\n",
        "# map => (asin, (1, rating))\n",
        "def mapper1(data):\n",
        "  line = json.loads(data)\n",
        "  asin = line['asin']\n",
        "  rating = line['overall']\n",
        "  return (asin, (1, rating))\n",
        "\n",
        "# reduce => (asin, (#reviews, total_rating))\n",
        "def reducer1(a, b):\n",
        "  return (a[0]+b[0], a[1]+b[1])"
      ],
      "metadata": {
        "id": "DDil1LsFCqNM"
      },
      "execution_count": 9,
      "outputs": []
    },
    {
      "cell_type": "code",
      "source": [
        "mapped_data1 = data1.map(mapper1)\n",
        "reduced_data1 = mapped_data1.reduceByKey(reducer1)\n",
        "results1 = reduced_data1.mapValues(lambda x: (x[0], x[1]/x[0]))"
      ],
      "metadata": {
        "id": "_VZJh97q-obr"
      },
      "execution_count": 10,
      "outputs": []
    },
    {
      "cell_type": "code",
      "source": [
        "print(results1.take(10))"
      ],
      "metadata": {
        "colab": {
          "base_uri": "https://localhost:8080/"
        },
        "id": "p1QrGZzeFvr3",
        "outputId": "033747f2-d6e6-44f1-b8b7-ae59430093a2"
      },
      "execution_count": 11,
      "outputs": [
        {
          "output_type": "stream",
          "name": "stdout",
          "text": [
            "[('B000052X2S', (18, 4.555555555555555)), ('B0000CDBPT', (48, 4.5)), ('B0000D9MQV', (7, 4.428571428571429)), ('B0000DHZY1', (24, 4.791666666666667)), ('B0000DID5R', (42, 4.4523809523809526)), ('B0000E5L25', (6, 4.666666666666667)), ('B0000GHNV8', (24, 4.458333333333333)), ('B0000GK068', (19, 4.473684210526316)), ('B0000GHNUE', (22, 4.318181818181818)), ('B0000TW1NU', (5, 5.0))]\n"
          ]
        }
      ]
    },
    {
      "cell_type": "markdown",
      "source": [
        "Step 2.  Create an RDD where the key is the product_asin and value is the brand name of the product using the metadata file. Remove any duplicated entries in the RDD."
      ],
      "metadata": {
        "id": "TM-uspzwfJay"
      }
    },
    {
      "cell_type": "code",
      "source": [
        "# target output => (asin, brand)\n",
        "def mapper2(data):\n",
        "  line = json.loads(data)\n",
        "  asin = line['asin']\n",
        "  brand = line['brand']\n",
        "  return (asin, brand)\n",
        "\n",
        "mapped_data2 = data2.map(mapper2)\n",
        "results2 = mapped_data2.distinct()"
      ],
      "metadata": {
        "id": "b_-zl2rOElWw"
      },
      "execution_count": 12,
      "outputs": []
    },
    {
      "cell_type": "code",
      "source": [
        "print(results2.take(10))"
      ],
      "metadata": {
        "colab": {
          "base_uri": "https://localhost:8080/"
        },
        "id": "FzRBcIeMF8tH",
        "outputId": "0ae7ae33-ea68-40d7-c950-4ca10cf4290c"
      },
      "execution_count": 13,
      "outputs": [
        {
          "output_type": "stream",
          "name": "stdout",
          "text": [
            "[('4858582000', 'Wagh Bakri'), ('9177121805', 'IKEA'), ('B000096O8Y', ''), ('B0000A0BS5', 'Starbucks'), ('B0000A0MCW', 'Wilton'), ('B0000CAV37', '1001 Coffees'), ('B0000CD07A', ''), ('B0000CD9PL', 'Hancock Gourmet Lobster Company'), ('B0000CDC3J', ''), ('B0000CDE88', 'The Ginger People')]\n"
          ]
        }
      ]
    },
    {
      "cell_type": "markdown",
      "source": [
        "Step 3.  Join the pair RDD obtained in Step 1 and the RDD created in Step 2 by the product asin."
      ],
      "metadata": {
        "id": "aYR4JSgIfoVL"
      }
    },
    {
      "cell_type": "code",
      "source": [
        "# Step1: RDD results1 => (asin, (#reviews, average_rating))\n",
        "# Step2: RDD results2 => (asin, brand)\n",
        "\n",
        "joined_rdd = results1.join(results2)  #(asin, ((#reviews, average_rating), brand))"
      ],
      "metadata": {
        "id": "HfvpiDx9fvMX"
      },
      "execution_count": 14,
      "outputs": []
    },
    {
      "cell_type": "code",
      "source": [
        "for asin, ((reviews, avg_rating), brand) in joined_rdd.take(5):\n",
        "  print(f\"ASIN: {asin}, Reviews: {reviews}, Average Rating: {avg_rating}, Brand: {brand}\")"
      ],
      "metadata": {
        "colab": {
          "base_uri": "https://localhost:8080/"
        },
        "id": "ZTts-w8wHX_O",
        "outputId": "305a4718-b6a2-40c8-cfbc-509017df14a3"
      },
      "execution_count": 15,
      "outputs": [
        {
          "output_type": "stream",
          "name": "stdout",
          "text": [
            "ASIN: B0000CDBPT, Reviews: 48, Average Rating: 4.5, Brand: Magic Seasoning Blends\n",
            "ASIN: B0000D9MQV, Reviews: 7, Average Rating: 4.428571428571429, Brand: Val de Saone\n",
            "ASIN: B0000DID5R, Reviews: 42, Average Rating: 4.4523809523809526, Brand: Dave's Gourmet\n",
            "ASIN: B0000GK068, Reviews: 19, Average Rating: 4.473684210526316, Brand: Pulparindo\n",
            "ASIN: B0000GHNUE, Reviews: 22, Average Rating: 4.318181818181818, Brand: El Yucateco\n"
          ]
        }
      ]
    },
    {
      "cell_type": "markdown",
      "source": [
        "Step 4. Take the top 15 entries, sorted by number of reviews in descending order. If multiple entries with same number of reviews, sort by average rating in descending order.\n"
      ],
      "metadata": {
        "id": "QJknlylkfvkF"
      }
    },
    {
      "cell_type": "code",
      "source": [
        "# sort by descending: #reviews, avg_rating\n",
        "# x = joined_rdd: (asin, ((#reviews, average_rating), brand))\n",
        "sorted_rdd = joined_rdd.sortBy(lambda x: (-x[1][0][0], -x[1][0][1]))"
      ],
      "metadata": {
        "id": "EnPx4Mv8Eq1Y"
      },
      "execution_count": 16,
      "outputs": []
    },
    {
      "cell_type": "code",
      "source": [
        "top_15 = sorted_rdd.take(15)"
      ],
      "metadata": {
        "id": "XaUkoS1YHyJ_"
      },
      "execution_count": 17,
      "outputs": []
    },
    {
      "cell_type": "code",
      "source": [
        "for asin, ((reviews, avg_rating), brand) in top_15:\n",
        "  print(f\"ASIN: {asin}, #reviews: {reviews}, avg rating: {avg_rating}, brand: {brand}\")"
      ],
      "metadata": {
        "colab": {
          "base_uri": "https://localhost:8080/"
        },
        "id": "V_Cd1vZVHyP-",
        "outputId": "b2c4bd5b-98cc-497e-82e4-0e979a7ef9de"
      },
      "execution_count": 18,
      "outputs": [
        {
          "output_type": "stream",
          "name": "stdout",
          "text": [
            "ASIN: B00BUKL666, #reviews: 7387, avg rating: 4.585352646541221, brand: KIND\n",
            "ASIN: B008QMX2SG, #reviews: 6228, avg rating: 4.573538856775851, brand: KIND\n",
            "ASIN: B00D3M2QP4, #reviews: 6221, avg rating: 4.573701977174088, brand: KIND\n",
            "ASIN: B00R7PWK7W, #reviews: 3387, avg rating: 4.568644818423383, brand: KIND\n",
            "ASIN: B000X3TPHS, #reviews: 3030, avg rating: 4.756435643564356, brand: YumEarth\n",
            "ASIN: B000F4DKAI, #reviews: 2922, avg rating: 4.623545516769336, brand: Twinings\n",
            "ASIN: B0001LO3FG, #reviews: 2922, avg rating: 4.623545516769336, brand: Twinings\n",
            "ASIN: B00KSN9TME, #reviews: 2637, avg rating: 4.583996966249526, brand: KIND\n",
            "ASIN: B000U0OUP6, #reviews: 2560, avg rating: 4.55859375, brand: Planters\n",
            "ASIN: B000E1FZHS, #reviews: 2555, avg rating: 4.55812133072407, brand: Planters\n",
            "ASIN: B00542YXFW, #reviews: 2455, avg rating: 4.374745417515275, brand: Davidson's Tea\n",
            "ASIN: B00RW0MZ6S, #reviews: 2168, avg rating: 4.550738007380073, brand: Planters\n",
            "ASIN: B000Z93FQC, #reviews: 2064, avg rating: 4.724806201550388, brand: YS Royal Jelly/Honey Bee\n",
            "ASIN: B00XA8XWGS, #reviews: 2053, avg rating: 4.590842669264491, brand: Twinings\n",
            "ASIN: B00XOORKRK, #reviews: 1980, avg rating: 4.543939393939394, brand: Planters\n"
          ]
        }
      ]
    },
    {
      "cell_type": "markdown",
      "source": [
        "Step 5: Save your RDD into a file. Print out the product asin, #reviews, average rating and brand of your 15 entries and the expected output is:\n",
        "```\n",
        "[0] ASIN: B00BUKL666, #reviews: 7387, avg rating: 4.585352646541221, brand: KIND\n",
        "[1] ASIN: B008QMX2SG, #reviews: 6228, avg rating: 4.573538856775851, brand: KIND\n",
        "[2] ASIN: B00D3M2QP4, #reviews: 6221, avg rating: 4.573701977174088, brand: KIND\n",
        "[3] ASIN: B00R7PWK7W, #reviews: 3387, avg rating: 4.568644818423383, brand: KIND\n",
        "[4] ASIN: B000X3TPHS, #reviews: 3030, avg rating: 4.756435643564356, brand: YumEarth\n",
        "[5] ASIN: B000F4DKAI, #reviews: 2922, avg rating: 4.623545516769336, brand: Twinings\n",
        "[6] ASIN: B0001LO3FG, #reviews: 2922, avg rating: 4.623545516769336, brand: Twinings\n",
        "[7] ASIN: B00KSN9TME, #reviews: 2637, avg rating: 4.583996966249526, brand: KIND\n",
        "[8] ASIN: B000U0OUP6, #reviews: 2560, avg rating: 4.55859375, brand: Planters\n",
        "[9] ASIN: B000E1FZHS, #reviews: 2555, avg rating: 4.55812133072407, brand: Planters\n",
        "[10] ASIN: B00542YXFW, #reviews: 2455, avg rating: 4.374745417515275, brand: Davidson's Tea\n",
        "[11] ASIN: B00RW0MZ6S, #reviews: 2168, avg rating: 4.550738007380073, brand: Planters\n",
        "[12] ASIN: B000Z93FQC, #reviews: 2064, avg rating: 4.724806201550388, brand: YS Royal Jelly/Honey Bee\n",
        "[13] ASIN: B00XA8XWGS, #reviews: 2053, avg rating: 4.590842669264491, brand: Twinings\n",
        "[14] ASIN: B00XOORKRK, #reviews: 1980, avg rating: 4.543939393939394, brand: Planters\n",
        "```\n",
        "\n",
        "\n",
        "\n",
        "\n"
      ],
      "metadata": {
        "id": "Dxh28q0Tf9Rr"
      }
    },
    {
      "cell_type": "code",
      "source": [
        "# save the top_15 rdd\n",
        "save_path = './gdrive/MyDrive/CS5344_AY2425Sem2_Lab/Lab-part2_out'  # the save_path cannot exist before\n",
        "sc.parallelize(top_15).coalesce(1).saveAsTextFile(save_path)    # coalesce(1) specifies the number of partitions to be 1 and does not generate multiple files"
      ],
      "metadata": {
        "id": "mjBH8ElwxLhJ"
      },
      "execution_count": 32,
      "outputs": []
    },
    {
      "cell_type": "code",
      "source": [
        "# same with above\n",
        "txt_path = './gdrive/MyDrive/CS5344_AY2425Sem2_Lab/Lab-part2_out/task1_top15.txt'\n",
        "with open(txt_path, \"w\") as f:\n",
        "  for record in top_15:\n",
        "    f.write(f\"{record}\\n\")"
      ],
      "metadata": {
        "id": "CKS-vbMlKpzp"
      },
      "execution_count": 33,
      "outputs": []
    },
    {
      "cell_type": "markdown",
      "source": [
        "**Task 2: Write a Spark program to compute word counts and find common words in the reviews of each product**"
      ],
      "metadata": {
        "id": "SIkvPVQUGG_L"
      }
    },
    {
      "cell_type": "markdown",
      "source": [
        "Step 1: Read the reviews from the review file and preprocess the text. Eliminate punctuation and special characters, convert all words to lowercase, and tokenize the text into individual words. Your RDD should have the product asin as key and the list of words as value. You can remove entries with missing reviews."
      ],
      "metadata": {
        "id": "6lZlhQo8hVZu"
      }
    },
    {
      "cell_type": "code",
      "source": [
        "# target output => (asin, ['word1','word2',...])\n",
        "import re\n",
        "\n",
        "def mapper3(data):\n",
        "  line = json.loads(data)\n",
        "  asin = line['asin']\n",
        "  text = line.get('reviewText')   # use get to avoid error with no reviewText\n",
        "\n",
        "  if not text:    # remove missing reviews\n",
        "    return None\n",
        "\n",
        "  words = re.findall(r'\\b[a-z]+\\b', text.lower())  # r'\\b\\W+\\b'\n",
        "\n",
        "  return (asin, words)\n",
        "\n",
        "\n",
        "mapped_data3 = data1.map(mapper3).filter(lambda x: x is not None)"
      ],
      "metadata": {
        "id": "M-lep79IJKYg"
      },
      "execution_count": 19,
      "outputs": []
    },
    {
      "cell_type": "code",
      "source": [
        "print(mapped_data3.take(5))"
      ],
      "metadata": {
        "colab": {
          "base_uri": "https://localhost:8080/"
        },
        "id": "yQGqSk8MMoah",
        "outputId": "329dfe8a-617f-4d99-ffd0-a6613b7989b2"
      },
      "execution_count": 20,
      "outputs": [
        {
          "output_type": "stream",
          "name": "stdout",
          "text": [
            "[('4639725183', ['no', 'adverse', 'comment']), ('4639725183', ['gift', 'for', 'college', 'student']), ('4639725183', ['if', 'you', 'like', 'strong', 'tea', 'this', 'is', 'for', 'you', 'it', 'might', 'even', 'be', 'a', 'little', 'too', 'strong', 'for', 'me']), ('4639725183', ['love', 'the', 'tea', 'the', 'flavor', 'is', 'way', 'better', 'than', 'the', 'regular', 'lipton', 'black', 'tea', 'definetly', 'worth', 'the', 'money']), ('4639725183', ['i', 'have', 'searched', 'everywhere', 'until', 'i', 'browsed', 'amazon', 'and', 'found', 'it', 'this', 'is', 'the', 'tea', 'lipton', 'should', 'be', 'selling', 'on', 'grocery', 'store', 'shelves', 'the', 'stuff', 'i', 'last', 'purchased', 'is', 'just', 'awful', 'and', 'nowhere', 'near', 'as', 'good', 'as', 'i', 'remember'])]\n"
          ]
        }
      ]
    },
    {
      "cell_type": "markdown",
      "source": [
        "Step 2: Calculate the frequency of each word in each product asin. Your RDD should have tuple (product_asin, word) as key and count of the corresponding word for that product as value. You can use reduceByKey() to accomplish this step."
      ],
      "metadata": {
        "id": "mCswPwCqhzU6"
      }
    },
    {
      "cell_type": "code",
      "source": [
        "# target output => ((asin, word), count)\n",
        "def reducer3(a, b):\n",
        "  return a+b\n",
        "\n",
        "shuffled_data3 = mapped_data3.flatMapValues(lambda x: x).map(lambda x: ((x[0], x[1]), 1))\n",
        "reduced_data3 = shuffled_data3.reduceByKey(reducer3)"
      ],
      "metadata": {
        "id": "qlCU1rqcuL-4"
      },
      "execution_count": 21,
      "outputs": []
    },
    {
      "cell_type": "code",
      "source": [
        "print(shuffled_data3.take(5))\n",
        "print(reduced_data3.take(5))"
      ],
      "metadata": {
        "colab": {
          "base_uri": "https://localhost:8080/"
        },
        "id": "sP5nleNGNiEl",
        "outputId": "17e90b40-09ad-4669-82f8-951772f6d931"
      },
      "execution_count": 22,
      "outputs": [
        {
          "output_type": "stream",
          "name": "stdout",
          "text": [
            "[(('4639725183', 'no'), 1), (('4639725183', 'adverse'), 1), (('4639725183', 'comment'), 1), (('4639725183', 'gift'), 1), (('4639725183', 'for'), 1)]\n",
            "[(('4639725183', 'this'), 12), (('4639725183', 'it'), 12), (('4639725183', 'too'), 1), (('4639725183', 'love'), 2), (('4639725183', 'regular'), 7)]\n"
          ]
        }
      ]
    },
    {
      "cell_type": "markdown",
      "source": [
        "Step 3: Find the top 10 words from reviews of the same product. Your RDD should have product_asin as key and the list containing the tuples (word, count) as value."
      ],
      "metadata": {
        "id": "1uNCao8Zk66m"
      }
    },
    {
      "cell_type": "code",
      "source": [
        "# ((asin, word), count) => (asin, (word, count))\n",
        "mapped_data4 = reduced_data3.map(lambda x: (x[0][0], (x[0][1], x[1])))\n",
        "reduced_data4 = mapped_data4.groupByKey().mapValues(\n",
        "    lambda words: sorted(list(words), key=lambda x: x[1], reverse=True)[:10]    # key=lambda x: x[1] means sorted by 'count' in x=(word, count)\n",
        ")"
      ],
      "metadata": {
        "id": "eWTrtJE9pMpS"
      },
      "execution_count": 23,
      "outputs": []
    },
    {
      "cell_type": "code",
      "source": [
        "print(reduced_data4.take(5))"
      ],
      "metadata": {
        "colab": {
          "base_uri": "https://localhost:8080/"
        },
        "id": "BIB7Sed5OhES",
        "outputId": "9e3546a2-20dd-4b83-b3f5-cff81e6eab92"
      },
      "execution_count": 24,
      "outputs": [
        {
          "output_type": "stream",
          "name": "stdout",
          "text": [
            "[('B000052X2S', [('of', 11), ('i', 11), ('the', 11), ('a', 8), ('to', 8), ('drops', 8), ('in', 7), ('that', 6), ('is', 6), ('and', 6)]), ('B0000CDBPT', [('the', 87), ('and', 71), ('i', 71), ('a', 44), ('to', 41), ('of', 37), ('it', 29), ('is', 28), ('this', 23), ('are', 20)]), ('B0000D9MQV', [('and', 6), ('was', 5), ('cheese', 4), ('is', 4), ('brie', 4), ('it', 4), ('the', 4), ('taste', 4), ('great', 3), ('i', 3)]), ('B0000DHZY1', [('good', 10), ('vanilla', 7), ('this', 7), ('i', 6), ('product', 6), ('but', 5), ('as', 5), ('is', 5), ('a', 5), ('great', 5)]), ('B0000DID5R', [('a', 123), ('the', 120), ('and', 91), ('it', 88), ('i', 86), ('to', 83), ('this', 81), ('is', 74), ('of', 74), ('you', 59)])]\n"
          ]
        }
      ]
    },
    {
      "cell_type": "markdown",
      "source": [
        "Step 4: Save your RDD into a file. For your reference, the first 10 entries, ordered by product asin, is as follows:\n",
        "```\n",
        "[0] 4639725043: [('tea', 73), ('i', 59), ('the', 52), ('it', 39), ('a', 36), ('this', 34), ('and', 33), ('is', 31), ('of', 30), ('to', 22)]\n",
        "[1] 4639725183: [('the', 30), ('i', 25), ('tea', 24), ('is', 13), ('a', 12), ('it', 12), ('this', 12), ('and', 12), ('lipton', 9), ('to', 9)]\n",
        "[2] 5463213682: [('the', 12), ('i', 10), ('and', 6), ('coffee', 4), ('not', 4), ('supreme', 3), ('love', 3), ('cafe', 3), ('sugar', 3), ('it', 3)]\n",
        "[3] 9742356831: [('i', 189), ('the', 179), ('and', 158), ('a', 156), ('it', 140), ('to', 106), ('curry', 93), ('this', 86), ('is', 77), ('in', 72)]\n",
        "[4] B00004S1C5: [('i', 30), ('the', 29), ('to', 20), ('and', 19), ('a', 15), ('is', 14), ('this', 14), ('it', 14), ('for', 14), ('are', 12)]\n",
        "[5] B00004W4VD: [('jerky', 9), ('of', 6), ('the', 5), ('and', 5), ('for', 5), ('to', 4), ('a', 4), ('meat', 4), ('you', 3), ('is', 3)]\n",
        "[6] B000052X2S: [('the', 11), ('i', 11), ('of', 11), ('to', 8), ('a', 8), ('drops', 8), ('in', 7), ('is', 6), ('and', 6), ('for', 6)]\n",
        "[7] B000052Y74: [('i', 29), ('it', 20), ('gum', 19), ('to', 18), ('and', 18), ('of', 18), ('a', 16), ('the', 16), ('you', 12), ('mouth', 12)]\n",
        "[8] B00005344V: [('i', 91), ('the', 76), ('it', 63), ('and', 57), ('tea', 53), ('this', 50), ('to', 44), ('a', 41), ('my', 33), ('of', 30)]\n",
        "[9] B00005BPQ9: [('the', 59), ('i', 51), ('a', 49), ('and', 37), ('to', 34), ('for', 31), ('in', 25), ('they', 22), ('of', 22), ('milk', 20)]\n",
        "```\n",
        "\n",
        "\n",
        "\n",
        "\n"
      ],
      "metadata": {
        "id": "726KZ9HxpXTc"
      }
    },
    {
      "cell_type": "code",
      "source": [
        "sorted_rdd4 = reduced_data4.sortByKey(ascending=True)\n",
        "print(sorted_rdd4.take(10))"
      ],
      "metadata": {
        "id": "GHNO8Ofopr0g",
        "colab": {
          "base_uri": "https://localhost:8080/"
        },
        "outputId": "05578fbc-f66c-4eb3-9879-3af590bfa3ad"
      },
      "execution_count": 25,
      "outputs": [
        {
          "output_type": "stream",
          "name": "stdout",
          "text": [
            "[('4639725043', [('tea', 73), ('i', 59), ('the', 52), ('it', 39), ('a', 36), ('this', 34), ('and', 33), ('is', 31), ('of', 30), ('to', 22)]), ('4639725183', [('the', 30), ('i', 25), ('tea', 24), ('is', 13), ('this', 12), ('it', 12), ('a', 12), ('and', 12), ('to', 9), ('lipton', 9)]), ('5463213682', [('the', 12), ('i', 10), ('and', 6), ('not', 4), ('coffee', 4), ('supreme', 3), ('sugar', 3), ('was', 3), ('love', 3), ('it', 3)]), ('9742356831', [('i', 189), ('the', 179), ('and', 158), ('a', 156), ('it', 140), ('to', 106), ('curry', 93), ('this', 86), ('is', 77), ('in', 72)]), ('B00004S1C5', [('i', 30), ('the', 29), ('to', 20), ('and', 19), ('a', 15), ('this', 14), ('it', 14), ('is', 14), ('for', 14), ('are', 12)]), ('B00004W4VD', [('jerky', 9), ('of', 6), ('and', 5), ('the', 5), ('for', 5), ('meat', 4), ('to', 4), ('a', 4), ('is', 3), ('works', 3)]), ('B000052X2S', [('of', 11), ('i', 11), ('the', 11), ('a', 8), ('to', 8), ('drops', 8), ('in', 7), ('that', 6), ('is', 6), ('and', 6)]), ('B000052Y74', [('i', 29), ('it', 20), ('gum', 19), ('to', 18), ('of', 18), ('and', 18), ('the', 16), ('a', 16), ('mouth', 12), ('you', 12)]), ('B00005344V', [('i', 91), ('the', 76), ('it', 63), ('and', 57), ('tea', 53), ('this', 50), ('to', 44), ('a', 41), ('my', 33), ('of', 30)]), ('B00005BPQ9', [('the', 59), ('i', 51), ('a', 49), ('and', 37), ('to', 34), ('for', 31), ('in', 25), ('they', 22), ('of', 22), ('my', 20)])]\n"
          ]
        }
      ]
    },
    {
      "cell_type": "code",
      "source": [
        "txt_path = './gdrive/MyDrive/CS5344_AY2425Sem2_Lab/Lab-part2_out/task2_top10.txt'\n",
        "with open(txt_path, \"w\") as f:\n",
        "  for record in sorted_rdd4.take(10):\n",
        "    f.write(f\"{record}\\n\")"
      ],
      "metadata": {
        "id": "CCnNVjeIPhtX"
      },
      "execution_count": 28,
      "outputs": []
    },
    {
      "cell_type": "code",
      "source": [
        "sc.stop()"
      ],
      "metadata": {
        "id": "Eolqg8pj-_3v"
      },
      "execution_count": 29,
      "outputs": []
    }
  ]
}